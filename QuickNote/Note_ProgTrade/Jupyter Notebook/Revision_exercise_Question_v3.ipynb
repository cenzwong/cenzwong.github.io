{
 "cells": [
  {
   "cell_type": "markdown",
   "metadata": {},
   "source": [
    "# Revision exercise Question"
   ]
  },
  {
   "cell_type": "code",
   "execution_count": 101,
   "metadata": {},
   "outputs": [],
   "source": [
    "import pandas as pd\n",
    "import numpy as np\n",
    "from mpl_finance import candlestick_ohlc\n",
    "import matplotlib.pyplot as plt\n",
    "import matplotlib.dates as mdates\n",
    "import yfinance as yf \n",
    "import talib as TA\n",
    "import datetime as dt\n",
    "from mpl_finance import candlestick2_ohlc\n",
    "pd.options.display.max_rows = None"
   ]
  },
  {
   "cell_type": "raw",
   "metadata": {},
   "source": [
    "Q1: Import the csv file provided and assign it to dataframe df"
   ]
  },
  {
   "cell_type": "raw",
   "metadata": {},
   "source": [
    "Q2: How many rows and columns in the data frame ?"
   ]
  },
  {
   "cell_type": "raw",
   "metadata": {},
   "source": [
    "Q3: Remove the unnamed column in the dataframe. (Hint: use df.drop())"
   ]
  },
  {
   "cell_type": "raw",
   "metadata": {},
   "source": [
    "Q4: Convert the date column into datetime format. Put the index with the datetime column."
   ]
  },
  {
   "cell_type": "raw",
   "metadata": {},
   "source": [
    "Q5: Calculate the number of GAP with value >=100. Calculate the number of GAP with value <=-100."
   ]
  },
  {
   "cell_type": "raw",
   "metadata": {},
   "source": [
    "Q6: Generate the candlestick chart for df on 02-07-2019 (after 09:30) with the following function"
   ]
  },
  {
   "cell_type": "code",
   "execution_count": 131,
   "metadata": {},
   "outputs": [],
   "source": [
    "def candlestick_gen2(ohlc,datetime_start=None,datetime_end=None,stock_code=\"\"):\n",
    "    \n",
    "    ohlc1=ohlc.copy()\n",
    "    High1=ohlc1[\"High\"].loc[datetime_start:datetime_end].max()\n",
    "    Low1=ohlc1[\"Low\"].loc[datetime_start:datetime_end].min()    \n",
    "    \n",
    "    fig = plt.figure(figsize = (20,15))\n",
    "    ax1 = plt.subplot2grid((1,1), (0,0), rowspan=2, colspan=1)    \n",
    "    ax1.grid(axis=\"y\")\n",
    "    \n",
    "   \n",
    "    candlestick2_ohlc(ax1, opens=ohlc1[\"Open\"],highs=ohlc1[\"High\"],lows=ohlc1[\"Low\"],\n",
    "                  closes=ohlc1[\"Close\"], width=0.2, colorup='green', colordown='red',\n",
    "                 alpha=1)\n",
    "    \n",
    "    ohlc1[\"ID\"]=list(range(len(ohlc1)))\n",
    "    ohlc1[\"Date1\"]=[i.strftime(\"%Y-%m-%d %H\") if i.minute==0 else None for i in ohlc1[\"Date\"]]\n",
    "    \n",
    "    ax1.set_title(stock_code+\" \"+\"5_mins\")\n",
    "    plt.xticks(ohlc1[\"ID\"], ohlc1[\"Date1\"])\n",
    "    plt.xticks(rotation=90)\n",
    "    plt.show()"
   ]
  },
  {
   "cell_type": "raw",
   "metadata": {},
   "source": [
    "Q7: Modify the function above and include the 5-min Volatility in the chart. The Volatility is defined to be the difference between the High price and the low price at each 5 min bar."
   ]
  },
  {
   "cell_type": "code",
   "execution_count": null,
   "metadata": {},
   "outputs": [],
   "source": []
  }
 ],
 "metadata": {
  "kernelspec": {
   "display_name": "Python 3",
   "language": "python",
   "name": "python3"
  },
  "language_info": {
   "codemirror_mode": {
    "name": "ipython",
    "version": 3
   },
   "file_extension": ".py",
   "mimetype": "text/x-python",
   "name": "python",
   "nbconvert_exporter": "python",
   "pygments_lexer": "ipython3",
   "version": "3.6.5"
  }
 },
 "nbformat": 4,
 "nbformat_minor": 2
}

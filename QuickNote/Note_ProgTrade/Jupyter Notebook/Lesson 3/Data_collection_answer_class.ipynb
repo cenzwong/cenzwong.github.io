{
 "cells": [
  {
   "cell_type": "markdown",
   "metadata": {},
   "source": [
    "# Data collection (v1)"
   ]
  },
  {
   "cell_type": "code",
   "execution_count": 26,
   "metadata": {},
   "outputs": [],
   "source": [
    "import pandas as pd\n",
    "import numpy as np\n",
    "import datetime as dt"
   ]
  },
  {
   "cell_type": "markdown",
   "metadata": {},
   "source": [
    "## Data collection from yahoo finance"
   ]
  },
  {
   "cell_type": "raw",
   "metadata": {},
   "source": [
    "import sys\n",
    "!{sys.executable} -m pip install yfinance"
   ]
  },
  {
   "cell_type": "code",
   "execution_count": 27,
   "metadata": {},
   "outputs": [],
   "source": [
    "import matplotlib.pyplot as plt\n",
    "import yfinance as yf"
   ]
  },
  {
   "cell_type": "code",
   "execution_count": 3,
   "metadata": {},
   "outputs": [
    {
     "name": "stdout",
     "output_type": "stream",
     "text": [
      "[*********************100%***********************]  1 of 1 downloaded\n"
     ]
    }
   ],
   "source": [
    "data = yf.download('^HSI','2019-01-01')"
   ]
  },
  {
   "cell_type": "code",
   "execution_count": 4,
   "metadata": {},
   "outputs": [
    {
     "name": "stdout",
     "output_type": "stream",
     "text": [
      "[*********************100%***********************]  1 of 1 downloaded\n"
     ]
    },
    {
     "data": {
      "image/png": "[encoded data removed]",
      "text/plain": [
       "<Figure size 432x288 with 1 Axes>"
      ]
     },
     "metadata": {
      "needs_background": "light"
     },
     "output_type": "display_data"
    }
   ],
   "source": [
    "data = yf.download('^HSI','2019-01-01')\n",
    "data.Close.plot()\n",
    "plt.show()"
   ]
  },
  {
   "cell_type": "code",
   "execution_count": 5,
   "metadata": {},
   "outputs": [],
   "source": [
    "data[\"return\"]=data[\"High\"]-data[\"Low\"]"
   ]
  },
  {
   "cell_type": "code",
   "execution_count": 6,
   "metadata": {},
   "outputs": [
    {
     "data": {
      "text/plain": [
       "count     352.000000\n",
       "mean      320.238580\n",
       "std       168.138945\n",
       "min         0.000000\n",
       "25%       229.857500\n",
       "50%       287.825000\n",
       "75%       375.012500\n",
       "max      1665.160000\n",
       "Name: return, dtype: float64"
      ]
     },
     "execution_count": 6,
     "metadata": {},
     "output_type": "execute_result"
    }
   ],
   "source": [
    "data[\"return\"].describe()"
   ]
  },
  {
   "cell_type": "markdown",
   "metadata": {},
   "source": [
    "## Data aggregation"
   ]
  },
  {
   "cell_type": "code",
   "execution_count": 7,
   "metadata": {},
   "outputs": [],
   "source": [
    "data[\"Date\"]=data.index\n",
    "data[\"Week\"]=data[\"Date\"].dt.week\n",
    "data[\"Month\"]=data[\"Date\"].dt.month"
   ]
  },
  {
   "cell_type": "code",
   "execution_count": 8,
   "metadata": {},
   "outputs": [],
   "source": [
    "data_weekly=data.groupby([\"Week\"]).agg({'Open':'first',\n",
    "                                        'High':'max',\n",
    "                                        'Low':'min',\n",
    "                                        'Close':'last',\n",
    "                                        'Volume':'sum'})"
   ]
  },
  {
   "cell_type": "code",
   "execution_count": 9,
   "metadata": {},
   "outputs": [
    {
     "data": {
      "text/html": [
       "<div>\n",
       "<style scoped>\n",
       "    .dataframe tbody tr th:only-of-type {\n",
       "        vertical-align: middle;\n",
       "    }\n",
       "\n",
       "    .dataframe tbody tr th {\n",
       "        vertical-align: top;\n",
       "    }\n",
       "\n",
       "    .dataframe thead th {\n",
       "        text-align: right;\n",
       "    }\n",
       "</style>\n",
       "<table border=\"1\" class=\"dataframe\">\n",
       "  <thead>\n",
       "    <tr style=\"text-align: right;\">\n",
       "      <th></th>\n",
       "      <th>Open</th>\n",
       "      <th>High</th>\n",
       "      <th>Low</th>\n",
       "      <th>Close</th>\n",
       "      <th>Volume</th>\n",
       "    </tr>\n",
       "    <tr>\n",
       "      <th>Week</th>\n",
       "      <th></th>\n",
       "      <th></th>\n",
       "      <th></th>\n",
       "      <th></th>\n",
       "      <th></th>\n",
       "    </tr>\n",
       "  </thead>\n",
       "  <tbody>\n",
       "    <tr>\n",
       "      <th>1</th>\n",
       "      <td>25824.44</td>\n",
       "      <td>28883.30</td>\n",
       "      <td>24896.87</td>\n",
       "      <td>28451.50</td>\n",
       "      <td>10210979100</td>\n",
       "    </tr>\n",
       "    <tr>\n",
       "      <th>2</th>\n",
       "      <td>26015.84</td>\n",
       "      <td>28665.14</td>\n",
       "      <td>25688.50</td>\n",
       "      <td>28638.20</td>\n",
       "      <td>17391128400</td>\n",
       "    </tr>\n",
       "    <tr>\n",
       "      <th>3</th>\n",
       "      <td>26559.68</td>\n",
       "      <td>29149.53</td>\n",
       "      <td>26195.78</td>\n",
       "      <td>29056.42</td>\n",
       "      <td>16331738900</td>\n",
       "    </tr>\n",
       "    <tr>\n",
       "      <th>4</th>\n",
       "      <td>27134.27</td>\n",
       "      <td>29174.92</td>\n",
       "      <td>26854.66</td>\n",
       "      <td>27949.64</td>\n",
       "      <td>15767747100</td>\n",
       "    </tr>\n",
       "    <tr>\n",
       "      <th>5</th>\n",
       "      <td>27695.81</td>\n",
       "      <td>28193.28</td>\n",
       "      <td>26295.49</td>\n",
       "      <td>26312.63</td>\n",
       "      <td>15545537500</td>\n",
       "    </tr>\n",
       "  </tbody>\n",
       "</table>\n",
       "</div>"
      ],
      "text/plain": [
       "          Open      High       Low     Close       Volume\n",
       "Week                                                     \n",
       "1     25824.44  28883.30  24896.87  28451.50  10210979100\n",
       "2     26015.84  28665.14  25688.50  28638.20  17391128400\n",
       "3     26559.68  29149.53  26195.78  29056.42  16331738900\n",
       "4     27134.27  29174.92  26854.66  27949.64  15767747100\n",
       "5     27695.81  28193.28  26295.49  26312.63  15545537500"
      ]
     },
     "execution_count": 9,
     "metadata": {},
     "output_type": "execute_result"
    }
   ],
   "source": [
    "data_weekly.head()"
   ]
  },
  {
   "cell_type": "markdown",
   "metadata": {},
   "source": [
    "## Question: "
   ]
  },
  {
   "cell_type": "markdown",
   "metadata": {},
   "source": [
    "To show the index of the weekly data frame with the first date of the week"
   ]
  },
  {
   "cell_type": "code",
   "execution_count": 10,
   "metadata": {},
   "outputs": [
    {
     "data": {
      "text/html": [
       "<div>\n",
       "<style scoped>\n",
       "    .dataframe tbody tr th:only-of-type {\n",
       "        vertical-align: middle;\n",
       "    }\n",
       "\n",
       "    .dataframe tbody tr th {\n",
       "        vertical-align: top;\n",
       "    }\n",
       "\n",
       "    .dataframe thead th {\n",
       "        text-align: right;\n",
       "    }\n",
       "</style>\n",
       "<table border=\"1\" class=\"dataframe\">\n",
       "  <thead>\n",
       "    <tr style=\"text-align: right;\">\n",
       "      <th></th>\n",
       "      <th>Open</th>\n",
       "      <th>High</th>\n",
       "      <th>Low</th>\n",
       "      <th>Close</th>\n",
       "      <th>Volume</th>\n",
       "      <th>Date</th>\n",
       "    </tr>\n",
       "    <tr>\n",
       "      <th>Date</th>\n",
       "      <th></th>\n",
       "      <th></th>\n",
       "      <th></th>\n",
       "      <th></th>\n",
       "      <th></th>\n",
       "      <th></th>\n",
       "    </tr>\n",
       "  </thead>\n",
       "  <tbody>\n",
       "    <tr>\n",
       "      <th>2019-01-02</th>\n",
       "      <td>25824.44</td>\n",
       "      <td>28883.30</td>\n",
       "      <td>24896.87</td>\n",
       "      <td>28451.50</td>\n",
       "      <td>10210979100</td>\n",
       "      <td>2019-01-02</td>\n",
       "    </tr>\n",
       "    <tr>\n",
       "      <th>2019-01-07</th>\n",
       "      <td>26015.84</td>\n",
       "      <td>28665.14</td>\n",
       "      <td>25688.50</td>\n",
       "      <td>28638.20</td>\n",
       "      <td>17391128400</td>\n",
       "      <td>2019-01-07</td>\n",
       "    </tr>\n",
       "    <tr>\n",
       "      <th>2019-01-14</th>\n",
       "      <td>26559.68</td>\n",
       "      <td>29149.53</td>\n",
       "      <td>26195.78</td>\n",
       "      <td>29056.42</td>\n",
       "      <td>16331738900</td>\n",
       "      <td>2019-01-14</td>\n",
       "    </tr>\n",
       "    <tr>\n",
       "      <th>2019-01-21</th>\n",
       "      <td>27134.27</td>\n",
       "      <td>29174.92</td>\n",
       "      <td>26854.66</td>\n",
       "      <td>27949.64</td>\n",
       "      <td>15767747100</td>\n",
       "      <td>2019-01-21</td>\n",
       "    </tr>\n",
       "    <tr>\n",
       "      <th>2019-01-28</th>\n",
       "      <td>27695.81</td>\n",
       "      <td>28193.28</td>\n",
       "      <td>26295.49</td>\n",
       "      <td>26312.63</td>\n",
       "      <td>15545537500</td>\n",
       "      <td>2019-01-28</td>\n",
       "    </tr>\n",
       "  </tbody>\n",
       "</table>\n",
       "</div>"
      ],
      "text/plain": [
       "                Open      High       Low     Close       Volume       Date\n",
       "Date                                                                      \n",
       "2019-01-02  25824.44  28883.30  24896.87  28451.50  10210979100 2019-01-02\n",
       "2019-01-07  26015.84  28665.14  25688.50  28638.20  17391128400 2019-01-07\n",
       "2019-01-14  26559.68  29149.53  26195.78  29056.42  16331738900 2019-01-14\n",
       "2019-01-21  27134.27  29174.92  26854.66  27949.64  15767747100 2019-01-21\n",
       "2019-01-28  27695.81  28193.28  26295.49  26312.63  15545537500 2019-01-28"
      ]
     },
     "execution_count": 10,
     "metadata": {},
     "output_type": "execute_result"
    }
   ],
   "source": [
    "data_weekly=data.groupby([\"Week\"]).agg({'Open':'first', 'High':'max', 'Low':'min', 'Close':'last','Volume':'sum',\n",
    "                                        \"Date\":\"first\"})\n",
    "data_weekly.index=data_weekly[\"Date\"]\n",
    "data_weekly.head()"
   ]
  },
  {
   "cell_type": "code",
   "execution_count": 11,
   "metadata": {},
   "outputs": [],
   "source": [
    "def data_resample3Days(data,time_start=None,time_end=None):\n",
    "    df=data.loc[time_start:time_end].copy()\n",
    "    OPEN=df[\"Open\"].resample(\"3D\").first()\n",
    "    HIGH=df[\"High\"].resample(\"3D\").max()\n",
    "    LOW=df[\"Low\"].resample(\"3D\").min()\n",
    "    CLOSE=df[\"Close\"].resample(\"3D\").last()\n",
    "    df1=pd.concat([OPEN, HIGH,LOW,CLOSE], axis=1, keys=[\"Open\",\"High\",\"Low\",\"Close\"])\n",
    "    return(df1)"
   ]
  },
  {
   "cell_type": "code",
   "execution_count": 12,
   "metadata": {},
   "outputs": [
    {
     "data": {
      "text/html": [
       "<div>\n",
       "<style scoped>\n",
       "    .dataframe tbody tr th:only-of-type {\n",
       "        vertical-align: middle;\n",
       "    }\n",
       "\n",
       "    .dataframe tbody tr th {\n",
       "        vertical-align: top;\n",
       "    }\n",
       "\n",
       "    .dataframe thead th {\n",
       "        text-align: right;\n",
       "    }\n",
       "</style>\n",
       "<table border=\"1\" class=\"dataframe\">\n",
       "  <thead>\n",
       "    <tr style=\"text-align: right;\">\n",
       "      <th></th>\n",
       "      <th>Open</th>\n",
       "      <th>High</th>\n",
       "      <th>Low</th>\n",
       "      <th>Close</th>\n",
       "    </tr>\n",
       "    <tr>\n",
       "      <th>Date</th>\n",
       "      <th></th>\n",
       "      <th></th>\n",
       "      <th></th>\n",
       "      <th></th>\n",
       "    </tr>\n",
       "  </thead>\n",
       "  <tbody>\n",
       "    <tr>\n",
       "      <th>2019-01-02</th>\n",
       "      <td>25824.44</td>\n",
       "      <td>25824.44</td>\n",
       "      <td>24896.87</td>\n",
       "      <td>25626.03</td>\n",
       "    </tr>\n",
       "    <tr>\n",
       "      <th>2019-01-05</th>\n",
       "      <td>26015.84</td>\n",
       "      <td>26043.64</td>\n",
       "      <td>25753.46</td>\n",
       "      <td>25835.70</td>\n",
       "    </tr>\n",
       "    <tr>\n",
       "      <th>2019-01-08</th>\n",
       "      <td>25852.50</td>\n",
       "      <td>26597.07</td>\n",
       "      <td>25688.50</td>\n",
       "      <td>26521.43</td>\n",
       "    </tr>\n",
       "    <tr>\n",
       "      <th>2019-01-11</th>\n",
       "      <td>26692.02</td>\n",
       "      <td>26692.02</td>\n",
       "      <td>26494.86</td>\n",
       "      <td>26667.27</td>\n",
       "    </tr>\n",
       "    <tr>\n",
       "      <th>2019-01-14</th>\n",
       "      <td>26559.68</td>\n",
       "      <td>26903.78</td>\n",
       "      <td>26195.78</td>\n",
       "      <td>26902.10</td>\n",
       "    </tr>\n",
       "  </tbody>\n",
       "</table>\n",
       "</div>"
      ],
      "text/plain": [
       "                Open      High       Low     Close\n",
       "Date                                              \n",
       "2019-01-02  25824.44  25824.44  24896.87  25626.03\n",
       "2019-01-05  26015.84  26043.64  25753.46  25835.70\n",
       "2019-01-08  25852.50  26597.07  25688.50  26521.43\n",
       "2019-01-11  26692.02  26692.02  26494.86  26667.27\n",
       "2019-01-14  26559.68  26903.78  26195.78  26902.10"
      ]
     },
     "execution_count": 12,
     "metadata": {},
     "output_type": "execute_result"
    }
   ],
   "source": [
    "data_resample3Days(data).head()"
   ]
  },
  {
   "cell_type": "markdown",
   "metadata": {},
   "source": [
    "## Getting stock data from investing.com"
   ]
  },
  {
   "cell_type": "code",
   "execution_count": 28,
   "metadata": {},
   "outputs": [],
   "source": [
    "import investpy as ipy"
   ]
  },
  {
   "cell_type": "code",
   "execution_count": 29,
   "metadata": {},
   "outputs": [],
   "source": [
    "df2 = ipy.get_stock_historical_data(stock=\"0700\", country='hong kong', from_date=\"01/01/2019\",to_date=\"31/12/2019\")"
   ]
  },
  {
   "cell_type": "code",
   "execution_count": 30,
   "metadata": {},
   "outputs": [
    {
     "data": {
      "text/html": [
       "<div>\n",
       "<style scoped>\n",
       "    .dataframe tbody tr th:only-of-type {\n",
       "        vertical-align: middle;\n",
       "    }\n",
       "\n",
       "    .dataframe tbody tr th {\n",
       "        vertical-align: top;\n",
       "    }\n",
       "\n",
       "    .dataframe thead th {\n",
       "        text-align: right;\n",
       "    }\n",
       "</style>\n",
       "<table border=\"1\" class=\"dataframe\">\n",
       "  <thead>\n",
       "    <tr style=\"text-align: right;\">\n",
       "      <th></th>\n",
       "      <th>Open</th>\n",
       "      <th>High</th>\n",
       "      <th>Low</th>\n",
       "      <th>Close</th>\n",
       "      <th>Volume</th>\n",
       "      <th>Currency</th>\n",
       "    </tr>\n",
       "    <tr>\n",
       "      <th>Date</th>\n",
       "      <th></th>\n",
       "      <th></th>\n",
       "      <th></th>\n",
       "      <th></th>\n",
       "      <th></th>\n",
       "      <th></th>\n",
       "    </tr>\n",
       "  </thead>\n",
       "  <tbody>\n",
       "    <tr>\n",
       "      <td>2019-01-02</td>\n",
       "      <td>315.0</td>\n",
       "      <td>315.0</td>\n",
       "      <td>306.2</td>\n",
       "      <td>306.6</td>\n",
       "      <td>15721300</td>\n",
       "      <td>HKD</td>\n",
       "    </tr>\n",
       "    <tr>\n",
       "      <td>2019-01-03</td>\n",
       "      <td>304.0</td>\n",
       "      <td>309.4</td>\n",
       "      <td>302.8</td>\n",
       "      <td>305.0</td>\n",
       "      <td>16420000</td>\n",
       "      <td>HKD</td>\n",
       "    </tr>\n",
       "    <tr>\n",
       "      <td>2019-01-04</td>\n",
       "      <td>300.4</td>\n",
       "      <td>311.0</td>\n",
       "      <td>300.4</td>\n",
       "      <td>310.6</td>\n",
       "      <td>19329100</td>\n",
       "      <td>HKD</td>\n",
       "    </tr>\n",
       "    <tr>\n",
       "      <td>2019-01-07</td>\n",
       "      <td>318.0</td>\n",
       "      <td>318.8</td>\n",
       "      <td>313.6</td>\n",
       "      <td>317.6</td>\n",
       "      <td>24891000</td>\n",
       "      <td>HKD</td>\n",
       "    </tr>\n",
       "    <tr>\n",
       "      <td>2019-01-08</td>\n",
       "      <td>318.0</td>\n",
       "      <td>318.6</td>\n",
       "      <td>312.0</td>\n",
       "      <td>315.6</td>\n",
       "      <td>16264900</td>\n",
       "      <td>HKD</td>\n",
       "    </tr>\n",
       "  </tbody>\n",
       "</table>\n",
       "</div>"
      ],
      "text/plain": [
       "             Open   High    Low  Close    Volume Currency\n",
       "Date                                                     \n",
       "2019-01-02  315.0  315.0  306.2  306.6  15721300      HKD\n",
       "2019-01-03  304.0  309.4  302.8  305.0  16420000      HKD\n",
       "2019-01-04  300.4  311.0  300.4  310.6  19329100      HKD\n",
       "2019-01-07  318.0  318.8  313.6  317.6  24891000      HKD\n",
       "2019-01-08  318.0  318.6  312.0  315.6  16264900      HKD"
      ]
     },
     "execution_count": 30,
     "metadata": {},
     "output_type": "execute_result"
    }
   ],
   "source": [
    "df2.head()"
   ]
  },
  {
   "cell_type": "markdown",
   "metadata": {},
   "source": [
    "## Question"
   ]
  },
  {
   "cell_type": "raw",
   "metadata": {},
   "source": [
    "Given the excel sheet with the stock codes, examine the close price from 2019-01-01 to now from both Yahoo finance and Investing.com.\n",
    "\n",
    "Determine if and which stocks would have different data values from both data sources.\n"
   ]
  },
  {
   "cell_type": "code",
   "execution_count": 32,
   "metadata": {},
   "outputs": [],
   "source": [
    "df_stocks=pd.read_excel(\"D:/Stock_monitoring_list1.xlsx\")\n",
    "stock_list=df_stocks[\"Stock code\"].tolist()    "
   ]
  },
  {
   "cell_type": "code",
   "execution_count": 33,
   "metadata": {},
   "outputs": [
    {
     "name": "stdout",
     "output_type": "stream",
     "text": [
      "[*********************100%***********************]  1 of 1 completed\n"
     ]
    },
    {
     "data": {
      "text/plain": [
       "1"
      ]
     },
     "execution_count": 33,
     "metadata": {},
     "output_type": "execute_result"
    }
   ],
   "source": [
    "i=\"0700.HK\"\n",
    "df1=yf.download(i,start=\"2019-01-01\",end=\"2019-12-31\")[\"Close\"]\n",
    "df2 = ipy.get_stock_historical_data(stock=i[:-3], country='hong kong', from_date=\"01/01/2019\",to_date=\"31/12/2019\")[\"Close\"]\n",
    "df3=pd.DataFrame({\"investing_Close\":df2,\"yahoo_Close\":df1})\n",
    "df3[\"Stock_code\"]=i\n",
    "df3[\"diff\"]=df3[\"investing_Close\"]-df3[\"yahoo_Close\"]\n",
    "NA=sum(df3[\"diff\"].isna())\n",
    "NA"
   ]
  },
  {
   "cell_type": "code",
   "execution_count": 42,
   "metadata": {},
   "outputs": [],
   "source": [
    "if sum(df3[\"diff\"]!=0)>=1:\n",
    "    Diff=1\n",
    "else:\n",
    "    Diff=0"
   ]
  },
  {
   "cell_type": "code",
   "execution_count": 43,
   "metadata": {},
   "outputs": [
    {
     "data": {
      "text/plain": [
       "1"
      ]
     },
     "execution_count": 43,
     "metadata": {},
     "output_type": "execute_result"
    }
   ],
   "source": [
    "Diff"
   ]
  },
  {
   "cell_type": "code",
   "execution_count": 16,
   "metadata": {},
   "outputs": [
    {
     "data": {
      "text/html": [
       "<div>\n",
       "<style scoped>\n",
       "    .dataframe tbody tr th:only-of-type {\n",
       "        vertical-align: middle;\n",
       "    }\n",
       "\n",
       "    .dataframe tbody tr th {\n",
       "        vertical-align: top;\n",
       "    }\n",
       "\n",
       "    .dataframe thead th {\n",
       "        text-align: right;\n",
       "    }\n",
       "</style>\n",
       "<table border=\"1\" class=\"dataframe\">\n",
       "  <thead>\n",
       "    <tr style=\"text-align: right;\">\n",
       "      <th></th>\n",
       "      <th>investing_Close</th>\n",
       "      <th>yahoo_Close</th>\n",
       "      <th>Stock_code</th>\n",
       "      <th>diff</th>\n",
       "    </tr>\n",
       "    <tr>\n",
       "      <th>Date</th>\n",
       "      <th></th>\n",
       "      <th></th>\n",
       "      <th></th>\n",
       "      <th></th>\n",
       "    </tr>\n",
       "  </thead>\n",
       "  <tbody>\n",
       "    <tr>\n",
       "      <td>2019-12-31</td>\n",
       "      <td>375.6</td>\n",
       "      <td>NaN</td>\n",
       "      <td>0700.HK</td>\n",
       "      <td>NaN</td>\n",
       "    </tr>\n",
       "  </tbody>\n",
       "</table>\n",
       "</div>"
      ],
      "text/plain": [
       "            investing_Close  yahoo_Close Stock_code  diff\n",
       "Date                                                     \n",
       "2019-12-31            375.6          NaN    0700.HK   NaN"
      ]
     },
     "execution_count": 16,
     "metadata": {},
     "output_type": "execute_result"
    }
   ],
   "source": [
    "df3[df3[\"diff\"].isna()]"
   ]
  },
  {
   "cell_type": "code",
   "execution_count": 14,
   "metadata": {},
   "outputs": [
    {
     "data": {
      "text/html": [
       "<div>\n",
       "<style scoped>\n",
       "    .dataframe tbody tr th:only-of-type {\n",
       "        vertical-align: middle;\n",
       "    }\n",
       "\n",
       "    .dataframe tbody tr th {\n",
       "        vertical-align: top;\n",
       "    }\n",
       "\n",
       "    .dataframe thead th {\n",
       "        text-align: right;\n",
       "    }\n",
       "</style>\n",
       "<table border=\"1\" class=\"dataframe\">\n",
       "  <thead>\n",
       "    <tr style=\"text-align: right;\">\n",
       "      <th></th>\n",
       "      <th>investing_Close</th>\n",
       "      <th>yahoo_Close</th>\n",
       "      <th>Stock_code</th>\n",
       "      <th>diff</th>\n",
       "    </tr>\n",
       "    <tr>\n",
       "      <th>Date</th>\n",
       "      <th></th>\n",
       "      <th></th>\n",
       "      <th></th>\n",
       "      <th></th>\n",
       "    </tr>\n",
       "  </thead>\n",
       "  <tbody>\n",
       "    <tr>\n",
       "      <td>2019-01-02</td>\n",
       "      <td>306.6</td>\n",
       "      <td>306.600006</td>\n",
       "      <td>0700.HK</td>\n",
       "      <td>-0.000006</td>\n",
       "    </tr>\n",
       "    <tr>\n",
       "      <td>2019-01-03</td>\n",
       "      <td>305.0</td>\n",
       "      <td>305.000000</td>\n",
       "      <td>0700.HK</td>\n",
       "      <td>0.000000</td>\n",
       "    </tr>\n",
       "    <tr>\n",
       "      <td>2019-01-04</td>\n",
       "      <td>310.6</td>\n",
       "      <td>310.600006</td>\n",
       "      <td>0700.HK</td>\n",
       "      <td>-0.000006</td>\n",
       "    </tr>\n",
       "    <tr>\n",
       "      <td>2019-01-07</td>\n",
       "      <td>317.6</td>\n",
       "      <td>317.600006</td>\n",
       "      <td>0700.HK</td>\n",
       "      <td>-0.000006</td>\n",
       "    </tr>\n",
       "    <tr>\n",
       "      <td>2019-01-08</td>\n",
       "      <td>315.6</td>\n",
       "      <td>315.600006</td>\n",
       "      <td>0700.HK</td>\n",
       "      <td>-0.000006</td>\n",
       "    </tr>\n",
       "  </tbody>\n",
       "</table>\n",
       "</div>"
      ],
      "text/plain": [
       "            investing_Close  yahoo_Close Stock_code      diff\n",
       "Date                                                         \n",
       "2019-01-02            306.6   306.600006    0700.HK -0.000006\n",
       "2019-01-03            305.0   305.000000    0700.HK  0.000000\n",
       "2019-01-04            310.6   310.600006    0700.HK -0.000006\n",
       "2019-01-07            317.6   317.600006    0700.HK -0.000006\n",
       "2019-01-08            315.6   315.600006    0700.HK -0.000006"
      ]
     },
     "execution_count": 14,
     "metadata": {},
     "output_type": "execute_result"
    }
   ],
   "source": [
    "df3.head()"
   ]
  },
  {
   "cell_type": "code",
   "execution_count": 44,
   "metadata": {},
   "outputs": [
    {
     "name": "stdout",
     "output_type": "stream",
     "text": [
      "[*********************100%***********************]  1 of 1 completed\n",
      "[*********************100%***********************]  1 of 1 completed\n",
      "[*********************100%***********************]  1 of 1 completed\n",
      "[*********************100%***********************]  1 of 1 completed\n",
      "[*********************100%***********************]  1 of 1 completed\n",
      "[*********************100%***********************]  1 of 1 completed\n",
      "[*********************100%***********************]  1 of 1 completed\n",
      "[*********************100%***********************]  1 of 1 completed\n",
      "[*********************100%***********************]  1 of 1 completed\n",
      "[*********************100%***********************]  1 of 1 completed\n",
      "[*********************100%***********************]  1 of 1 completed\n",
      "[*********************100%***********************]  1 of 1 completed\n",
      "[*********************100%***********************]  1 of 1 completed\n",
      "[*********************100%***********************]  1 of 1 completed\n",
      "[*********************100%***********************]  1 of 1 completed\n",
      "[*********************100%***********************]  1 of 1 completed\n",
      "[*********************100%***********************]  1 of 1 completed\n",
      "[*********************100%***********************]  1 of 1 completed\n",
      "[*********************100%***********************]  1 of 1 completed\n",
      "[*********************100%***********************]  1 of 1 completed\n",
      "[*********************100%***********************]  1 of 1 completed\n",
      "[*********************100%***********************]  1 of 1 completed\n",
      "[*********************100%***********************]  1 of 1 completed\n",
      "[*********************100%***********************]  1 of 1 completed\n",
      "[*********************100%***********************]  1 of 1 completed\n",
      "[*********************100%***********************]  1 of 1 completed\n",
      "[*********************100%***********************]  1 of 1 completed\n",
      "[*********************100%***********************]  1 of 1 completed\n",
      "[*********************100%***********************]  1 of 1 completed\n",
      "[*********************100%***********************]  1 of 1 completed\n",
      "[*********************100%***********************]  1 of 1 completed\n",
      "[*********************100%***********************]  1 of 1 completed\n",
      "[*********************100%***********************]  1 of 1 completed\n",
      "[*********************100%***********************]  1 of 1 completed\n",
      "[*********************100%***********************]  1 of 1 completed\n",
      "[*********************100%***********************]  1 of 1 completed\n",
      "[*********************100%***********************]  1 of 1 completed\n",
      "[*********************100%***********************]  1 of 1 completed\n",
      "[*********************100%***********************]  1 of 1 completed\n",
      "[*********************100%***********************]  1 of 1 completed\n",
      "[*********************100%***********************]  1 of 1 completed\n",
      "[*********************100%***********************]  1 of 1 completed\n",
      "[*********************100%***********************]  1 of 1 completed\n",
      "[*********************100%***********************]  1 of 1 completed\n",
      "[*********************100%***********************]  1 of 1 completed\n",
      "[*********************100%***********************]  1 of 1 completed\n",
      "[*********************100%***********************]  1 of 1 completed\n",
      "[*********************100%***********************]  1 of 1 completed\n",
      "[*********************100%***********************]  1 of 1 completed\n",
      "[*********************100%***********************]  1 of 1 completed\n"
     ]
    }
   ],
   "source": [
    "L1=[]\n",
    "L2=[]\n",
    "L3=[]\n",
    "for i in stock_list:\n",
    "    df1=yf.download(i,start=\"2019-01-01\",end=\"2019-12-31\")[\"Close\"]\n",
    "    df2 = ipy.get_stock_historical_data(stock=i[:-3], country='hong kong', from_date=\"01/01/2019\",to_date=\"31/12/2019\")[\"Close\"]\n",
    "    df3=pd.DataFrame({\"investing_Close\":df2,\"yahoo_Close\":df1})\n",
    "    df3[\"Stock_code\"]=i\n",
    "    df3[\"diff\"]=df3[\"investing_Close\"]-df3[\"yahoo_Close\"]\n",
    "    NA=sum(df3[\"diff\"].isna())\n",
    "    if sum(df3[\"diff\"] !=0)>=1:\n",
    "        Diff=1\n",
    "    else:\n",
    "        Diff=0\n",
    "#     #Diff_sum=df3[\"diff\"].sum()\n",
    "#     if Diff_sum!=0:\n",
    "#         Diff=1\n",
    "#     else:\n",
    "#         Diff=0\n",
    "    L1.append(Diff)\n",
    "    L2.append(NA)\n",
    "    L3.append(df3)\n",
    "    \n",
    "    "
   ]
  },
  {
   "cell_type": "code",
   "execution_count": 45,
   "metadata": {},
   "outputs": [],
   "source": [
    "df_summary=pd.DataFrame({\"Stock_code\":stock_list,\n",
    "                        \"diff\":L1,\n",
    "                        \"NA\":L2})"
   ]
  },
  {
   "cell_type": "code",
   "execution_count": 46,
   "metadata": {},
   "outputs": [
    {
     "data": {
      "text/html": [
       "<div>\n",
       "<style scoped>\n",
       "    .dataframe tbody tr th:only-of-type {\n",
       "        vertical-align: middle;\n",
       "    }\n",
       "\n",
       "    .dataframe tbody tr th {\n",
       "        vertical-align: top;\n",
       "    }\n",
       "\n",
       "    .dataframe thead th {\n",
       "        text-align: right;\n",
       "    }\n",
       "</style>\n",
       "<table border=\"1\" class=\"dataframe\">\n",
       "  <thead>\n",
       "    <tr style=\"text-align: right;\">\n",
       "      <th></th>\n",
       "      <th>Stock_code</th>\n",
       "      <th>diff</th>\n",
       "      <th>NA</th>\n",
       "    </tr>\n",
       "  </thead>\n",
       "  <tbody>\n",
       "    <tr>\n",
       "      <td>0</td>\n",
       "      <td>0001.HK</td>\n",
       "      <td>1</td>\n",
       "      <td>1</td>\n",
       "    </tr>\n",
       "    <tr>\n",
       "      <td>1</td>\n",
       "      <td>0002.HK</td>\n",
       "      <td>1</td>\n",
       "      <td>1</td>\n",
       "    </tr>\n",
       "    <tr>\n",
       "      <td>2</td>\n",
       "      <td>0003.HK</td>\n",
       "      <td>1</td>\n",
       "      <td>1</td>\n",
       "    </tr>\n",
       "    <tr>\n",
       "      <td>3</td>\n",
       "      <td>0005.HK</td>\n",
       "      <td>1</td>\n",
       "      <td>1</td>\n",
       "    </tr>\n",
       "    <tr>\n",
       "      <td>4</td>\n",
       "      <td>0006.HK</td>\n",
       "      <td>1</td>\n",
       "      <td>1</td>\n",
       "    </tr>\n",
       "  </tbody>\n",
       "</table>\n",
       "</div>"
      ],
      "text/plain": [
       "  Stock_code  diff  NA\n",
       "0    0001.HK     1   1\n",
       "1    0002.HK     1   1\n",
       "2    0003.HK     1   1\n",
       "3    0005.HK     1   1\n",
       "4    0006.HK     1   1"
      ]
     },
     "execution_count": 46,
     "metadata": {},
     "output_type": "execute_result"
    }
   ],
   "source": [
    "df_summary.head()"
   ]
  },
  {
   "cell_type": "code",
   "execution_count": 39,
   "metadata": {},
   "outputs": [
    {
     "data": {
      "text/plain": [
       "50"
      ]
     },
     "execution_count": 39,
     "metadata": {},
     "output_type": "execute_result"
    }
   ],
   "source": [
    "sum(df_summary[\"diff\"]>=1)"
   ]
  },
  {
   "cell_type": "code",
   "execution_count": 47,
   "metadata": {},
   "outputs": [
    {
     "data": {
      "text/plain": [
       "50"
      ]
     },
     "execution_count": 47,
     "metadata": {},
     "output_type": "execute_result"
    }
   ],
   "source": [
    "sum(df_summary[\"NA\"]>=1)"
   ]
  },
  {
   "cell_type": "code",
   "execution_count": 53,
   "metadata": {},
   "outputs": [],
   "source": [
    "df_005=L3[3]"
   ]
  },
  {
   "cell_type": "code",
   "execution_count": 56,
   "metadata": {},
   "outputs": [
    {
     "data": {
      "text/html": [
       "<div>\n",
       "<style scoped>\n",
       "    .dataframe tbody tr th:only-of-type {\n",
       "        vertical-align: middle;\n",
       "    }\n",
       "\n",
       "    .dataframe tbody tr th {\n",
       "        vertical-align: top;\n",
       "    }\n",
       "\n",
       "    .dataframe thead th {\n",
       "        text-align: right;\n",
       "    }\n",
       "</style>\n",
       "<table border=\"1\" class=\"dataframe\">\n",
       "  <thead>\n",
       "    <tr style=\"text-align: right;\">\n",
       "      <th></th>\n",
       "      <th>investing_Close</th>\n",
       "      <th>yahoo_Close</th>\n",
       "      <th>Stock_code</th>\n",
       "      <th>diff</th>\n",
       "    </tr>\n",
       "    <tr>\n",
       "      <th>Date</th>\n",
       "      <th></th>\n",
       "      <th></th>\n",
       "      <th></th>\n",
       "      <th></th>\n",
       "    </tr>\n",
       "  </thead>\n",
       "  <tbody>\n",
       "    <tr>\n",
       "      <td>2019-11-11</td>\n",
       "      <td>59.00</td>\n",
       "      <td>59.000000</td>\n",
       "      <td>0005.HK</td>\n",
       "      <td>0.000000</td>\n",
       "    </tr>\n",
       "    <tr>\n",
       "      <td>2019-09-23</td>\n",
       "      <td>59.50</td>\n",
       "      <td>59.500000</td>\n",
       "      <td>0005.HK</td>\n",
       "      <td>0.000000</td>\n",
       "    </tr>\n",
       "    <tr>\n",
       "      <td>2019-07-31</td>\n",
       "      <td>63.35</td>\n",
       "      <td>63.349998</td>\n",
       "      <td>0005.HK</td>\n",
       "      <td>0.000002</td>\n",
       "    </tr>\n",
       "    <tr>\n",
       "      <td>2019-02-25</td>\n",
       "      <td>64.20</td>\n",
       "      <td>64.199997</td>\n",
       "      <td>0005.HK</td>\n",
       "      <td>0.000003</td>\n",
       "    </tr>\n",
       "    <tr>\n",
       "      <td>2019-01-07</td>\n",
       "      <td>64.90</td>\n",
       "      <td>64.900002</td>\n",
       "      <td>0005.HK</td>\n",
       "      <td>-0.000002</td>\n",
       "    </tr>\n",
       "  </tbody>\n",
       "</table>\n",
       "</div>"
      ],
      "text/plain": [
       "            investing_Close  yahoo_Close Stock_code      diff\n",
       "Date                                                         \n",
       "2019-11-11            59.00    59.000000    0005.HK  0.000000\n",
       "2019-09-23            59.50    59.500000    0005.HK  0.000000\n",
       "2019-07-31            63.35    63.349998    0005.HK  0.000002\n",
       "2019-02-25            64.20    64.199997    0005.HK  0.000003\n",
       "2019-01-07            64.90    64.900002    0005.HK -0.000002"
      ]
     },
     "execution_count": 56,
     "metadata": {},
     "output_type": "execute_result"
    }
   ],
   "source": [
    "df_005.sample(5)"
   ]
  },
  {
   "cell_type": "code",
   "execution_count": 57,
   "metadata": {},
   "outputs": [
    {
     "data": {
      "text/html": [
       "<div>\n",
       "<style scoped>\n",
       "    .dataframe tbody tr th:only-of-type {\n",
       "        vertical-align: middle;\n",
       "    }\n",
       "\n",
       "    .dataframe tbody tr th {\n",
       "        vertical-align: top;\n",
       "    }\n",
       "\n",
       "    .dataframe thead th {\n",
       "        text-align: right;\n",
       "    }\n",
       "</style>\n",
       "<table border=\"1\" class=\"dataframe\">\n",
       "  <thead>\n",
       "    <tr style=\"text-align: right;\">\n",
       "      <th></th>\n",
       "      <th>investing_Close</th>\n",
       "      <th>yahoo_Close</th>\n",
       "      <th>Stock_code</th>\n",
       "      <th>diff</th>\n",
       "    </tr>\n",
       "    <tr>\n",
       "      <th>Date</th>\n",
       "      <th></th>\n",
       "      <th></th>\n",
       "      <th></th>\n",
       "      <th></th>\n",
       "    </tr>\n",
       "  </thead>\n",
       "  <tbody>\n",
       "    <tr>\n",
       "      <td>2019-12-31</td>\n",
       "      <td>60.85</td>\n",
       "      <td>NaN</td>\n",
       "      <td>0005.HK</td>\n",
       "      <td>NaN</td>\n",
       "    </tr>\n",
       "  </tbody>\n",
       "</table>\n",
       "</div>"
      ],
      "text/plain": [
       "            investing_Close  yahoo_Close Stock_code  diff\n",
       "Date                                                     \n",
       "2019-12-31            60.85          NaN    0005.HK   NaN"
      ]
     },
     "execution_count": 57,
     "metadata": {},
     "output_type": "execute_result"
    }
   ],
   "source": [
    "df_005[df_005[\"diff\"].isna()]"
   ]
  },
  {
   "cell_type": "code",
   "execution_count": null,
   "metadata": {},
   "outputs": [],
   "source": []
  }
 ],
 "metadata": {
  "kernelspec": {
   "display_name": "Python 3",
   "language": "python",
   "name": "python3"
  },
  "language_info": {
   "codemirror_mode": {
    "name": "ipython",
    "version": 3
   },
   "file_extension": ".py",
   "mimetype": "text/x-python",
   "name": "python",
   "nbconvert_exporter": "python",
   "pygments_lexer": "ipython3",
   "version": "3.7.4"
  }
 },
 "nbformat": 4,
 "nbformat_minor": 2
}

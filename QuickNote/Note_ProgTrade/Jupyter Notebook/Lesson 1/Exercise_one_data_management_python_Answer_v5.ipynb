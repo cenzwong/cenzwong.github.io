{
 "cells": [
  {
   "cell_type": "markdown",
   "metadata": {},
   "source": [
    "# Exercise one-Data managment with Python(Answer)"
   ]
  },
  {
   "cell_type": "code",
   "execution_count": 1,
   "metadata": {},
   "outputs": [],
   "source": [
    "import pandas as pd"
   ]
  },
  {
   "cell_type": "code",
   "execution_count": 2,
   "metadata": {},
   "outputs": [],
   "source": [
    "df=pd.read_csv(\"D:/0823.HK.csv\")\n",
    "df1=pd.read_csv(\"D:/^HSI.csv\")"
   ]
  },
  {
   "cell_type": "code",
   "execution_count": 3,
   "metadata": {},
   "outputs": [
    {
     "data": {
      "text/html": [
       "<div>\n",
       "<style scoped>\n",
       "    .dataframe tbody tr th:only-of-type {\n",
       "        vertical-align: middle;\n",
       "    }\n",
       "\n",
       "    .dataframe tbody tr th {\n",
       "        vertical-align: top;\n",
       "    }\n",
       "\n",
       "    .dataframe thead th {\n",
       "        text-align: right;\n",
       "    }\n",
       "</style>\n",
       "<table border=\"1\" class=\"dataframe\">\n",
       "  <thead>\n",
       "    <tr style=\"text-align: right;\">\n",
       "      <th></th>\n",
       "      <th>Date</th>\n",
       "      <th>Open</th>\n",
       "      <th>High</th>\n",
       "      <th>Low</th>\n",
       "      <th>Close</th>\n",
       "      <th>Adj Close</th>\n",
       "      <th>Volume</th>\n",
       "    </tr>\n",
       "  </thead>\n",
       "  <tbody>\n",
       "    <tr>\n",
       "      <th>0</th>\n",
       "      <td>2018-09-18</td>\n",
       "      <td>76.650002</td>\n",
       "      <td>76.650002</td>\n",
       "      <td>75.500000</td>\n",
       "      <td>76.449997</td>\n",
       "      <td>74.039856</td>\n",
       "      <td>4145105</td>\n",
       "    </tr>\n",
       "    <tr>\n",
       "      <th>1</th>\n",
       "      <td>2018-09-19</td>\n",
       "      <td>75.849998</td>\n",
       "      <td>76.449997</td>\n",
       "      <td>75.849998</td>\n",
       "      <td>76.199997</td>\n",
       "      <td>73.797737</td>\n",
       "      <td>3430379</td>\n",
       "    </tr>\n",
       "    <tr>\n",
       "      <th>2</th>\n",
       "      <td>2018-09-20</td>\n",
       "      <td>76.150002</td>\n",
       "      <td>76.449997</td>\n",
       "      <td>75.199997</td>\n",
       "      <td>75.650002</td>\n",
       "      <td>73.265083</td>\n",
       "      <td>4622572</td>\n",
       "    </tr>\n",
       "    <tr>\n",
       "      <th>3</th>\n",
       "      <td>2018-09-21</td>\n",
       "      <td>75.500000</td>\n",
       "      <td>75.699997</td>\n",
       "      <td>73.900002</td>\n",
       "      <td>74.099998</td>\n",
       "      <td>71.763939</td>\n",
       "      <td>12040645</td>\n",
       "    </tr>\n",
       "    <tr>\n",
       "      <th>4</th>\n",
       "      <td>2018-09-24</td>\n",
       "      <td>73.500000</td>\n",
       "      <td>74.699997</td>\n",
       "      <td>73.500000</td>\n",
       "      <td>73.699997</td>\n",
       "      <td>71.376549</td>\n",
       "      <td>3906825</td>\n",
       "    </tr>\n",
       "  </tbody>\n",
       "</table>\n",
       "</div>"
      ],
      "text/plain": [
       "         Date       Open       High        Low      Close  Adj Close    Volume\n",
       "0  2018-09-18  76.650002  76.650002  75.500000  76.449997  74.039856   4145105\n",
       "1  2018-09-19  75.849998  76.449997  75.849998  76.199997  73.797737   3430379\n",
       "2  2018-09-20  76.150002  76.449997  75.199997  75.650002  73.265083   4622572\n",
       "3  2018-09-21  75.500000  75.699997  73.900002  74.099998  71.763939  12040645\n",
       "4  2018-09-24  73.500000  74.699997  73.500000  73.699997  71.376549   3906825"
      ]
     },
     "execution_count": 3,
     "metadata": {},
     "output_type": "execute_result"
    }
   ],
   "source": [
    "df.head()"
   ]
  },
  {
   "cell_type": "code",
   "execution_count": 4,
   "metadata": {},
   "outputs": [
    {
     "data": {
      "text/html": [
       "<div>\n",
       "<style scoped>\n",
       "    .dataframe tbody tr th:only-of-type {\n",
       "        vertical-align: middle;\n",
       "    }\n",
       "\n",
       "    .dataframe tbody tr th {\n",
       "        vertical-align: top;\n",
       "    }\n",
       "\n",
       "    .dataframe thead th {\n",
       "        text-align: right;\n",
       "    }\n",
       "</style>\n",
       "<table border=\"1\" class=\"dataframe\">\n",
       "  <thead>\n",
       "    <tr style=\"text-align: right;\">\n",
       "      <th></th>\n",
       "      <th>Date</th>\n",
       "      <th>Open</th>\n",
       "      <th>High</th>\n",
       "      <th>Low</th>\n",
       "      <th>Close</th>\n",
       "      <th>Adj Close</th>\n",
       "      <th>Volume</th>\n",
       "    </tr>\n",
       "  </thead>\n",
       "  <tbody>\n",
       "    <tr>\n",
       "      <th>0</th>\n",
       "      <td>2018-09-18</td>\n",
       "      <td>26846.330078</td>\n",
       "      <td>27156.550781</td>\n",
       "      <td>26648.990234</td>\n",
       "      <td>27084.660156</td>\n",
       "      <td>27084.660156</td>\n",
       "      <td>1810262900</td>\n",
       "    </tr>\n",
       "    <tr>\n",
       "      <th>1</th>\n",
       "      <td>2018-09-19</td>\n",
       "      <td>27170.019531</td>\n",
       "      <td>27488.349609</td>\n",
       "      <td>27085.789063</td>\n",
       "      <td>27407.369141</td>\n",
       "      <td>27407.369141</td>\n",
       "      <td>1874196000</td>\n",
       "    </tr>\n",
       "    <tr>\n",
       "      <th>2</th>\n",
       "      <td>2018-09-20</td>\n",
       "      <td>27605.720703</td>\n",
       "      <td>27628.189453</td>\n",
       "      <td>27327.230469</td>\n",
       "      <td>27477.669922</td>\n",
       "      <td>27477.669922</td>\n",
       "      <td>1399791400</td>\n",
       "    </tr>\n",
       "    <tr>\n",
       "      <th>3</th>\n",
       "      <td>2018-09-21</td>\n",
       "      <td>27712.349609</td>\n",
       "      <td>27965.960938</td>\n",
       "      <td>27536.269531</td>\n",
       "      <td>27953.580078</td>\n",
       "      <td>27953.580078</td>\n",
       "      <td>2777208200</td>\n",
       "    </tr>\n",
       "    <tr>\n",
       "      <th>4</th>\n",
       "      <td>2018-09-24</td>\n",
       "      <td>27783.849609</td>\n",
       "      <td>27783.849609</td>\n",
       "      <td>27425.009766</td>\n",
       "      <td>27499.390625</td>\n",
       "      <td>27499.390625</td>\n",
       "      <td>1511079800</td>\n",
       "    </tr>\n",
       "  </tbody>\n",
       "</table>\n",
       "</div>"
      ],
      "text/plain": [
       "         Date          Open          High           Low         Close  \\\n",
       "0  2018-09-18  26846.330078  27156.550781  26648.990234  27084.660156   \n",
       "1  2018-09-19  27170.019531  27488.349609  27085.789063  27407.369141   \n",
       "2  2018-09-20  27605.720703  27628.189453  27327.230469  27477.669922   \n",
       "3  2018-09-21  27712.349609  27965.960938  27536.269531  27953.580078   \n",
       "4  2018-09-24  27783.849609  27783.849609  27425.009766  27499.390625   \n",
       "\n",
       "      Adj Close      Volume  \n",
       "0  27084.660156  1810262900  \n",
       "1  27407.369141  1874196000  \n",
       "2  27477.669922  1399791400  \n",
       "3  27953.580078  2777208200  \n",
       "4  27499.390625  1511079800  "
      ]
     },
     "execution_count": 4,
     "metadata": {},
     "output_type": "execute_result"
    }
   ],
   "source": [
    "df1.head()"
   ]
  },
  {
   "cell_type": "code",
   "execution_count": 5,
   "metadata": {},
   "outputs": [
    {
     "name": "stdout",
     "output_type": "stream",
     "text": [
      "<class 'pandas.core.frame.DataFrame'>\n",
      "RangeIndex: 246 entries, 0 to 245\n",
      "Data columns (total 7 columns):\n",
      "Date         246 non-null object\n",
      "Open         246 non-null float64\n",
      "High         246 non-null float64\n",
      "Low          246 non-null float64\n",
      "Close        246 non-null float64\n",
      "Adj Close    246 non-null float64\n",
      "Volume       246 non-null int64\n",
      "dtypes: float64(5), int64(1), object(1)\n",
      "memory usage: 13.5+ KB\n"
     ]
    }
   ],
   "source": [
    "df.info()"
   ]
  },
  {
   "cell_type": "code",
   "execution_count": 6,
   "metadata": {},
   "outputs": [],
   "source": [
    "df[\"Date\"]=pd.to_datetime(df[\"Date\"],format=\"%Y-%m-%d\")\n",
    "df1[\"Date\"]=pd.to_datetime(df1[\"Date\"],format=\"%Y-%m-%d\")"
   ]
  },
  {
   "cell_type": "code",
   "execution_count": 7,
   "metadata": {},
   "outputs": [],
   "source": [
    "df.index=df[\"Date\"]\n",
    "df1.index=df1[\"Date\"]"
   ]
  },
  {
   "cell_type": "code",
   "execution_count": 8,
   "metadata": {},
   "outputs": [
    {
     "data": {
      "text/html": [
       "<div>\n",
       "<style scoped>\n",
       "    .dataframe tbody tr th:only-of-type {\n",
       "        vertical-align: middle;\n",
       "    }\n",
       "\n",
       "    .dataframe tbody tr th {\n",
       "        vertical-align: top;\n",
       "    }\n",
       "\n",
       "    .dataframe thead th {\n",
       "        text-align: right;\n",
       "    }\n",
       "</style>\n",
       "<table border=\"1\" class=\"dataframe\">\n",
       "  <thead>\n",
       "    <tr style=\"text-align: right;\">\n",
       "      <th></th>\n",
       "      <th>Date</th>\n",
       "      <th>Open</th>\n",
       "      <th>High</th>\n",
       "      <th>Low</th>\n",
       "      <th>Close</th>\n",
       "      <th>Adj Close</th>\n",
       "      <th>Volume</th>\n",
       "    </tr>\n",
       "    <tr>\n",
       "      <th>Date</th>\n",
       "      <th></th>\n",
       "      <th></th>\n",
       "      <th></th>\n",
       "      <th></th>\n",
       "      <th></th>\n",
       "      <th></th>\n",
       "      <th></th>\n",
       "    </tr>\n",
       "  </thead>\n",
       "  <tbody>\n",
       "    <tr>\n",
       "      <th>2018-09-18</th>\n",
       "      <td>2018-09-18</td>\n",
       "      <td>76.650002</td>\n",
       "      <td>76.650002</td>\n",
       "      <td>75.500000</td>\n",
       "      <td>76.449997</td>\n",
       "      <td>74.039856</td>\n",
       "      <td>4145105</td>\n",
       "    </tr>\n",
       "    <tr>\n",
       "      <th>2018-09-19</th>\n",
       "      <td>2018-09-19</td>\n",
       "      <td>75.849998</td>\n",
       "      <td>76.449997</td>\n",
       "      <td>75.849998</td>\n",
       "      <td>76.199997</td>\n",
       "      <td>73.797737</td>\n",
       "      <td>3430379</td>\n",
       "    </tr>\n",
       "    <tr>\n",
       "      <th>2018-09-20</th>\n",
       "      <td>2018-09-20</td>\n",
       "      <td>76.150002</td>\n",
       "      <td>76.449997</td>\n",
       "      <td>75.199997</td>\n",
       "      <td>75.650002</td>\n",
       "      <td>73.265083</td>\n",
       "      <td>4622572</td>\n",
       "    </tr>\n",
       "    <tr>\n",
       "      <th>2018-09-21</th>\n",
       "      <td>2018-09-21</td>\n",
       "      <td>75.500000</td>\n",
       "      <td>75.699997</td>\n",
       "      <td>73.900002</td>\n",
       "      <td>74.099998</td>\n",
       "      <td>71.763939</td>\n",
       "      <td>12040645</td>\n",
       "    </tr>\n",
       "    <tr>\n",
       "      <th>2018-09-24</th>\n",
       "      <td>2018-09-24</td>\n",
       "      <td>73.500000</td>\n",
       "      <td>74.699997</td>\n",
       "      <td>73.500000</td>\n",
       "      <td>73.699997</td>\n",
       "      <td>71.376549</td>\n",
       "      <td>3906825</td>\n",
       "    </tr>\n",
       "  </tbody>\n",
       "</table>\n",
       "</div>"
      ],
      "text/plain": [
       "                 Date       Open       High        Low      Close  Adj Close  \\\n",
       "Date                                                                           \n",
       "2018-09-18 2018-09-18  76.650002  76.650002  75.500000  76.449997  74.039856   \n",
       "2018-09-19 2018-09-19  75.849998  76.449997  75.849998  76.199997  73.797737   \n",
       "2018-09-20 2018-09-20  76.150002  76.449997  75.199997  75.650002  73.265083   \n",
       "2018-09-21 2018-09-21  75.500000  75.699997  73.900002  74.099998  71.763939   \n",
       "2018-09-24 2018-09-24  73.500000  74.699997  73.500000  73.699997  71.376549   \n",
       "\n",
       "              Volume  \n",
       "Date                  \n",
       "2018-09-18   4145105  \n",
       "2018-09-19   3430379  \n",
       "2018-09-20   4622572  \n",
       "2018-09-21  12040645  \n",
       "2018-09-24   3906825  "
      ]
     },
     "execution_count": 8,
     "metadata": {},
     "output_type": "execute_result"
    }
   ],
   "source": [
    "df.head()"
   ]
  },
  {
   "cell_type": "code",
   "execution_count": 41,
   "metadata": {},
   "outputs": [
    {
     "data": {
      "text/html": [
       "<div>\n",
       "<style scoped>\n",
       "    .dataframe tbody tr th:only-of-type {\n",
       "        vertical-align: middle;\n",
       "    }\n",
       "\n",
       "    .dataframe tbody tr th {\n",
       "        vertical-align: top;\n",
       "    }\n",
       "\n",
       "    .dataframe thead th {\n",
       "        text-align: right;\n",
       "    }\n",
       "</style>\n",
       "<table border=\"1\" class=\"dataframe\">\n",
       "  <thead>\n",
       "    <tr style=\"text-align: right;\">\n",
       "      <th></th>\n",
       "      <th>Date</th>\n",
       "      <th>Open</th>\n",
       "      <th>High</th>\n",
       "      <th>Low</th>\n",
       "      <th>Close</th>\n",
       "      <th>Adj Close</th>\n",
       "      <th>Volume</th>\n",
       "    </tr>\n",
       "    <tr>\n",
       "      <th>Date</th>\n",
       "      <th></th>\n",
       "      <th></th>\n",
       "      <th></th>\n",
       "      <th></th>\n",
       "      <th></th>\n",
       "      <th></th>\n",
       "      <th></th>\n",
       "    </tr>\n",
       "  </thead>\n",
       "  <tbody>\n",
       "    <tr>\n",
       "      <th>2019-09-12</th>\n",
       "      <td>2019-09-12</td>\n",
       "      <td>90.300003</td>\n",
       "      <td>90.949997</td>\n",
       "      <td>88.800003</td>\n",
       "      <td>89.099998</td>\n",
       "      <td>89.099998</td>\n",
       "      <td>4284624</td>\n",
       "    </tr>\n",
       "    <tr>\n",
       "      <th>2019-09-13</th>\n",
       "      <td>2019-09-13</td>\n",
       "      <td>89.699997</td>\n",
       "      <td>89.800003</td>\n",
       "      <td>89.099998</td>\n",
       "      <td>89.699997</td>\n",
       "      <td>89.699997</td>\n",
       "      <td>2982432</td>\n",
       "    </tr>\n",
       "    <tr>\n",
       "      <th>2019-09-16</th>\n",
       "      <td>2019-09-16</td>\n",
       "      <td>88.699997</td>\n",
       "      <td>89.099998</td>\n",
       "      <td>88.349998</td>\n",
       "      <td>88.900002</td>\n",
       "      <td>88.900002</td>\n",
       "      <td>3047478</td>\n",
       "    </tr>\n",
       "    <tr>\n",
       "      <th>2019-09-17</th>\n",
       "      <td>2019-09-17</td>\n",
       "      <td>88.949997</td>\n",
       "      <td>89.250000</td>\n",
       "      <td>88.099998</td>\n",
       "      <td>89.150002</td>\n",
       "      <td>89.150002</td>\n",
       "      <td>4340118</td>\n",
       "    </tr>\n",
       "    <tr>\n",
       "      <th>2019-09-18</th>\n",
       "      <td>2019-09-18</td>\n",
       "      <td>89.550003</td>\n",
       "      <td>89.550003</td>\n",
       "      <td>88.349998</td>\n",
       "      <td>88.449997</td>\n",
       "      <td>88.449997</td>\n",
       "      <td>2009066</td>\n",
       "    </tr>\n",
       "  </tbody>\n",
       "</table>\n",
       "</div>"
      ],
      "text/plain": [
       "                 Date       Open       High        Low      Close  Adj Close  \\\n",
       "Date                                                                           \n",
       "2019-09-12 2019-09-12  90.300003  90.949997  88.800003  89.099998  89.099998   \n",
       "2019-09-13 2019-09-13  89.699997  89.800003  89.099998  89.699997  89.699997   \n",
       "2019-09-16 2019-09-16  88.699997  89.099998  88.349998  88.900002  88.900002   \n",
       "2019-09-17 2019-09-17  88.949997  89.250000  88.099998  89.150002  89.150002   \n",
       "2019-09-18 2019-09-18  89.550003  89.550003  88.349998  88.449997  88.449997   \n",
       "\n",
       "             Volume  \n",
       "Date                 \n",
       "2019-09-12  4284624  \n",
       "2019-09-13  2982432  \n",
       "2019-09-16  3047478  \n",
       "2019-09-17  4340118  \n",
       "2019-09-18  2009066  "
      ]
     },
     "execution_count": 41,
     "metadata": {},
     "output_type": "execute_result"
    }
   ],
   "source": [
    "df.tail()"
   ]
  },
  {
   "cell_type": "code",
   "execution_count": 42,
   "metadata": {},
   "outputs": [
    {
     "data": {
      "text/html": [
       "<div>\n",
       "<style scoped>\n",
       "    .dataframe tbody tr th:only-of-type {\n",
       "        vertical-align: middle;\n",
       "    }\n",
       "\n",
       "    .dataframe tbody tr th {\n",
       "        vertical-align: top;\n",
       "    }\n",
       "\n",
       "    .dataframe thead th {\n",
       "        text-align: right;\n",
       "    }\n",
       "</style>\n",
       "<table border=\"1\" class=\"dataframe\">\n",
       "  <thead>\n",
       "    <tr style=\"text-align: right;\">\n",
       "      <th></th>\n",
       "      <th>Date</th>\n",
       "      <th>Open</th>\n",
       "      <th>High</th>\n",
       "      <th>Low</th>\n",
       "      <th>Close</th>\n",
       "      <th>Adj Close</th>\n",
       "      <th>Volume</th>\n",
       "    </tr>\n",
       "    <tr>\n",
       "      <th>Date</th>\n",
       "      <th></th>\n",
       "      <th></th>\n",
       "      <th></th>\n",
       "      <th></th>\n",
       "      <th></th>\n",
       "      <th></th>\n",
       "      <th></th>\n",
       "    </tr>\n",
       "  </thead>\n",
       "  <tbody>\n",
       "    <tr>\n",
       "      <th>2019-09-11</th>\n",
       "      <td>2019-09-11</td>\n",
       "      <td>26790.640625</td>\n",
       "      <td>27159.509766</td>\n",
       "      <td>26705.630859</td>\n",
       "      <td>27159.060547</td>\n",
       "      <td>27159.060547</td>\n",
       "      <td>2072246200</td>\n",
       "    </tr>\n",
       "    <tr>\n",
       "      <th>2019-09-12</th>\n",
       "      <td>2019-09-12</td>\n",
       "      <td>27283.980469</td>\n",
       "      <td>27283.980469</td>\n",
       "      <td>26967.250000</td>\n",
       "      <td>27087.630859</td>\n",
       "      <td>27087.630859</td>\n",
       "      <td>1337046900</td>\n",
       "    </tr>\n",
       "    <tr>\n",
       "      <th>2019-09-13</th>\n",
       "      <td>2019-09-13</td>\n",
       "      <td>27154.509766</td>\n",
       "      <td>27366.449219</td>\n",
       "      <td>27074.539063</td>\n",
       "      <td>27352.689453</td>\n",
       "      <td>27352.689453</td>\n",
       "      <td>1176496300</td>\n",
       "    </tr>\n",
       "    <tr>\n",
       "      <th>2019-09-16</th>\n",
       "      <td>2019-09-16</td>\n",
       "      <td>27212.890625</td>\n",
       "      <td>27212.890625</td>\n",
       "      <td>26976.300781</td>\n",
       "      <td>27124.550781</td>\n",
       "      <td>27124.550781</td>\n",
       "      <td>2189101500</td>\n",
       "    </tr>\n",
       "    <tr>\n",
       "      <th>2019-09-17</th>\n",
       "      <td>2019-09-17</td>\n",
       "      <td>26942.960938</td>\n",
       "      <td>26951.839844</td>\n",
       "      <td>26694.369141</td>\n",
       "      <td>26790.240234</td>\n",
       "      <td>26790.240234</td>\n",
       "      <td>1850715100</td>\n",
       "    </tr>\n",
       "  </tbody>\n",
       "</table>\n",
       "</div>"
      ],
      "text/plain": [
       "                 Date          Open          High           Low         Close  \\\n",
       "Date                                                                            \n",
       "2019-09-11 2019-09-11  26790.640625  27159.509766  26705.630859  27159.060547   \n",
       "2019-09-12 2019-09-12  27283.980469  27283.980469  26967.250000  27087.630859   \n",
       "2019-09-13 2019-09-13  27154.509766  27366.449219  27074.539063  27352.689453   \n",
       "2019-09-16 2019-09-16  27212.890625  27212.890625  26976.300781  27124.550781   \n",
       "2019-09-17 2019-09-17  26942.960938  26951.839844  26694.369141  26790.240234   \n",
       "\n",
       "               Adj Close      Volume  \n",
       "Date                                  \n",
       "2019-09-11  27159.060547  2072246200  \n",
       "2019-09-12  27087.630859  1337046900  \n",
       "2019-09-13  27352.689453  1176496300  \n",
       "2019-09-16  27124.550781  2189101500  \n",
       "2019-09-17  26790.240234  1850715100  "
      ]
     },
     "execution_count": 42,
     "metadata": {},
     "output_type": "execute_result"
    }
   ],
   "source": [
    "df1.tail()"
   ]
  },
  {
   "cell_type": "code",
   "execution_count": 20,
   "metadata": {},
   "outputs": [
    {
     "data": {
      "text/plain": [
       "Date\n",
       "2018-09-18    0.000000\n",
       "2018-09-19    0.011915\n",
       "2018-09-20    0.014510\n",
       "2018-09-21    0.032082\n",
       "2018-09-24    0.015312\n",
       "Name: Close, dtype: float64"
      ]
     },
     "execution_count": 20,
     "metadata": {},
     "output_type": "execute_result"
    }
   ],
   "source": [
    "((df1[\"Close\"]-df1[\"Close\"][0])/df1[\"Close\"][0]).head()"
   ]
  },
  {
   "cell_type": "code",
   "execution_count": 13,
   "metadata": {},
   "outputs": [],
   "source": [
    "HSI_Close_normalized=(df1[\"Close\"]-df1[\"Close\"][0])/(df1[\"Close\"][0])\n",
    "Link_Close_normalized=(df[\"Close\"]-df[\"Close\"][0])/(df[\"Close\"][0])"
   ]
  },
  {
   "cell_type": "code",
   "execution_count": 11,
   "metadata": {},
   "outputs": [],
   "source": [
    "import matplotlib.pyplot as plt\n",
    "\n",
    "%matplotlib inline"
   ]
  },
  {
   "cell_type": "code",
   "execution_count": 14,
   "metadata": {},
   "outputs": [
    {
     "data": {
      "text/plain": [
       "<matplotlib.legend.Legend at 0x965ec88>"
      ]
     },
     "execution_count": 14,
     "metadata": {},
     "output_type": "execute_result"
    },
    {
     "data": {
      "image/png": "[encoded data removed]",
      "text/plain": [
       "<Figure size 1152x288 with 1 Axes>"
      ]
     },
     "metadata": {},
     "output_type": "display_data"
    }
   ],
   "source": [
    "fig, ax1 = plt.subplots(1, 1, figsize=(16,4))\n",
    "fig.suptitle('Stock performance analysis', size=20, y=1.02)\n",
    "HSI_Close_normalized.plot(kind='line', ax=ax1,label=\"HSI\")\n",
    "Link_Close_normalized.plot(kind='line', ax=ax1,label=\"LINK\")\n",
    "ax1.legend()\n",
    "#df[\"Close\"].plot(kind=\"line\",ax=ax1,\n"
   ]
  },
  {
   "cell_type": "markdown",
   "metadata": {},
   "source": [
    "### Additional questions"
   ]
  },
  {
   "cell_type": "markdown",
   "metadata": {},
   "source": [
    "Q1: To calculate the distribution of the daily return of HSI index (Close-Open)"
   ]
  },
  {
   "cell_type": "code",
   "execution_count": 24,
   "metadata": {},
   "outputs": [
    {
     "data": {
      "text/plain": [
       "count    245.000000\n",
       "mean       9.172106\n",
       "std      226.409729\n",
       "min     -694.089844\n",
       "25%     -128.050781\n",
       "50%        2.669922\n",
       "75%      141.250000\n",
       "max      848.070313\n",
       "dtype: float64"
      ]
     },
     "execution_count": 24,
     "metadata": {},
     "output_type": "execute_result"
    }
   ],
   "source": [
    "(df1[\"Close\"]-df1[\"Open\"]).describe()"
   ]
  },
  {
   "cell_type": "markdown",
   "metadata": {},
   "source": [
    "Q2: To calculate the Gap of HSI (Open-Close@Previous day) (Hint: shift())"
   ]
  },
  {
   "cell_type": "code",
   "execution_count": 29,
   "metadata": {},
   "outputs": [
    {
     "data": {
      "text/plain": [
       "Date\n",
       "2018-09-18             NaN\n",
       "2018-09-19    27084.660156\n",
       "2018-09-20    27407.369141\n",
       "2018-09-21    27477.669922\n",
       "2018-09-24    27953.580078\n",
       "Name: Close, dtype: float64"
      ]
     },
     "execution_count": 29,
     "metadata": {},
     "output_type": "execute_result"
    }
   ],
   "source": [
    "df1[\"Close\"].shift().head()"
   ]
  },
  {
   "cell_type": "code",
   "execution_count": 26,
   "metadata": {},
   "outputs": [
    {
     "data": {
      "text/plain": [
       "count    244.000000\n",
       "mean      -9.439573\n",
       "std      220.190820\n",
       "min     -857.330078\n",
       "25%     -115.189454\n",
       "50%        9.645507\n",
       "75%      123.847657\n",
       "max      726.099610\n",
       "dtype: float64"
      ]
     },
     "execution_count": 26,
     "metadata": {},
     "output_type": "execute_result"
    }
   ],
   "source": [
    "(df1[\"Open\"]-df1[\"Close\"].shift()).describe()"
   ]
  },
  {
   "cell_type": "code",
   "execution_count": 32,
   "metadata": {},
   "outputs": [
    {
     "data": {
      "text/plain": [
       "Date\n",
       "2019-06-19    726.09961\n",
       "dtype: float64"
      ]
     },
     "execution_count": 32,
     "metadata": {},
     "output_type": "execute_result"
    }
   ],
   "source": [
    "L1=df1[\"Open\"]-df1[\"Close\"].shift()\n",
    "L1[L1>=700]"
   ]
  },
  {
   "cell_type": "code",
   "execution_count": null,
   "metadata": {},
   "outputs": [],
   "source": []
  }
 ],
 "metadata": {
  "kernelspec": {
   "display_name": "Python 3",
   "language": "python",
   "name": "python3"
  },
  "language_info": {
   "codemirror_mode": {
    "name": "ipython",
    "version": 3
   },
   "file_extension": ".py",
   "mimetype": "text/x-python",
   "name": "python",
   "nbconvert_exporter": "python",
   "pygments_lexer": "ipython3",
   "version": "3.6.5"
  }
 },
 "nbformat": 4,
 "nbformat_minor": 2
}
